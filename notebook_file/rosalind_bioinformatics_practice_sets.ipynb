{
 "cells": [
  {
   "cell_type": "markdown",
   "metadata": {},
   "source": [
    "Count the number of occurrences of each nucleotide in a sequence"
   ]
  },
  {
   "cell_type": "code",
   "execution_count": 1,
   "metadata": {},
   "outputs": [
    {
     "name": "stdout",
     "output_type": "stream",
     "text": [
      "ACCCGATGCCTGTATGCTTCTACTCGGACAGGTAATCCCGACGCAAGTCAATTGGGGCGGTGAGGTCAACAGGATGCCAAGTGAAGGTAACGGGATAGCCTCCTTCAAACAGCTTCTCTAACGGAGAGGTGTACCCTAGGATCGCGACGAGCGCAAAGACGATAGGCAAATCTCAGATTACAGCAGCTCACTATCTATAAGAAGTAGAAATAGCCGAGGGGCGATACAGTTTCGCCGGACAGAGTATGACCTATCGATCGATAGGCTAACAACAGCGATGCGGGATGGGTTGCAGGCGGTTTAGAAGAATCGTTGCGTGGCGACCCAACACAATCGTCATATAGTTGGGTATCCCCTCCCTGCGCCGCCTAGTTGTCGCGTCTTCCGATTCACAATGGGCTTATATCAGAGCTACTGTGTCCGGGCCCGCTTCGGGCCCTGGTTAACTGGGCGACTAATGGTTCTGATGTATAGGATAGATTTCAAGTCGAGACGGCTTAGATTGCCGTATTCTGCAGCCGACCCCAATGCGTGCTGGGCACGCGAGTAATTTGTTGCCCTCTTAGCGGCCTAGGAAAACTAGCCCGAGCCGTCCGAAGTACCCAAGGGACGATACCAATAGAGCGTTGGTAGACTCCTGACGACAGTAAATGCTTCCTTCGTACGACCCGGGAACGCCACGGCGCACCGTCAGCCCACCTCCCGTTGATTCATTGGCTAATTATACCAGAACAGCGAAACATCCGTTGCGGGTTTTCTACTCAGGATGCACAGCGACCTCCGCTAGTCCTTGATTGTGGTGACACTGTATCAGCCAAGTAGCTGGTCGCGGAATGAACAAGTCATTTTGGCAAGACTATCGGAACCCCCCGGGTTCCCTCACCTCATCTTGCCCACTGTACGTAGCGCCGAGGTAGGACCAGTCGCAAGGCCGACCATT\n",
      "\n"
     ]
    }
   ],
   "source": [
    "data_file = open(r'C:\\Users\\mikea\\Documents\\Python Practice\\bioinformatics\\rosalind_project\\DNA\\rosalind_dna_2.txt')\n",
    "data_string = data_file.read()\n",
    "print(data_string)"
   ]
  },
  {
   "cell_type": "code",
   "execution_count": 2,
   "metadata": {},
   "outputs": [
    {
     "name": "stdout",
     "output_type": "stream",
     "text": [
      "A:228\n",
      "C:253\n",
      "G:251\n",
      "T:208\n"
     ]
    }
   ],
   "source": [
    "a_count = (data_string.count(\"A\"))\n",
    "c_count = (data_string.count(\"C\"))\n",
    "g_count = (data_string.count(\"G\"))\n",
    "t_count = (data_string.count(\"T\"))\n",
    "print(\"A:\" + str(a_count))\n",
    "print(\"C:\" + str(c_count))\n",
    "print(\"G:\" + str(g_count))\n",
    "print(\"T:\" + str(t_count))\n"
   ]
  },
  {
   "cell_type": "markdown",
   "metadata": {},
   "source": [
    "Transcribe DNA into RNA"
   ]
  },
  {
   "cell_type": "code",
   "execution_count": 3,
   "metadata": {},
   "outputs": [
    {
     "name": "stdout",
     "output_type": "stream",
     "text": [
      "AGATCACGCATAGTTCCGGATTGTCTAGAATGCTCTACACTGATGGGACACTAGAGGGTCAAGTCGATCAAATACTGGTGTCCCGTACGCACTAGGCTTGCAGAACAATGACCAACACCCTACCTAGGCGGTGACCAAACGTTTACGGAGTCGAACTCTGACCGACCGCCTTAGGCTTCTTGCTCAGGCTCGAAGGCTTAGCTATGGGCTATGTTATATGACAGAAAACGTCTATGATTATACGGCCCCTTTGGGGATGCACGTTACGGTCGTACCAGGGCAGCCAGTCTCGGAGCAGAGCTGAATAGTCTGTCGCGTGGAAGATGCGAAGAGGCCTGCAGAACTTGCGAATAGGTACGTTTACCGGCCATGCTCCACATGGGGCACGTGGACGACGCCAAAGCTAACGATTGCGCGCAGAGAGCTTGGAACGGCCGGGAATAGCGCTGGATCCAGGATCGCAGCGAGGACCTGTGCTATAGGCTTTATGGGTTGTTAACCCGAGAGAAAGGTGCGCAGTTTTAGTGAGAGCACTGGTTACGTACTTGCCAACTTGAGGCTCACGGACAAATAGGTCTTATGGATTTGGTCGGGAGAGCTTAGTATAAGAGCATGCCTTAGGCACGCCAAACCTAGATTTCTGTGATCCGACAAATACCATCTCTCCATCTTGAAGGAAGTCACAGAGCGTACAGTTGGTACGAGCATGATAAACTATTCGTTCAACACCGTAAGAGAATCGCGAATCTGTGCGATAGGATATCGACAAGGCATTTCTGTTCCCTTCTGACACCCGTGCAAGGTGGCATTTAGACAAGCCAATCTCCCTATCGGCAATGGCGGTTCATGTCCGACCTGCTCGGTGATGGTTATCCGCCAACGGATTGGCTAATCGCTTTTCCAGTCATTGTTAAGGTATACTTACTGAGTATGAATCCCCGTAGCATTCGAGGAAGGGAGTCGGTATCGCGGCGATGGATGGACCAGAGTGCCGTCA\n",
      "\n"
     ]
    }
   ],
   "source": [
    "data_file = open(r'C:\\Users\\mikea\\Documents\\Python Practice\\bioinformatics\\rosalind_project\\RNA\\rosalind_rna.txt')\n",
    "data_string = data_file.read()\n",
    "print(data_string)"
   ]
  },
  {
   "cell_type": "code",
   "execution_count": 4,
   "metadata": {},
   "outputs": [
    {
     "name": "stdout",
     "output_type": "stream",
     "text": [
      "AGAUCACGCAUAGUUCCGGAUUGUCUAGAAUGCUCUACACUGAUGGGACACUAGAGGGUCAAGUCGAUCAAAUACUGGUGUCCCGUACGCACUAGGCUUGCAGAACAAUGACCAACACCCUACCUAGGCGGUGACCAAACGUUUACGGAGUCGAACUCUGACCGACCGCCUUAGGCUUCUUGCUCAGGCUCGAAGGCUUAGCUAUGGGCUAUGUUAUAUGACAGAAAACGUCUAUGAUUAUACGGCCCCUUUGGGGAUGCACGUUACGGUCGUACCAGGGCAGCCAGUCUCGGAGCAGAGCUGAAUAGUCUGUCGCGUGGAAGAUGCGAAGAGGCCUGCAGAACUUGCGAAUAGGUACGUUUACCGGCCAUGCUCCACAUGGGGCACGUGGACGACGCCAAAGCUAACGAUUGCGCGCAGAGAGCUUGGAACGGCCGGGAAUAGCGCUGGAUCCAGGAUCGCAGCGAGGACCUGUGCUAUAGGCUUUAUGGGUUGUUAACCCGAGAGAAAGGUGCGCAGUUUUAGUGAGAGCACUGGUUACGUACUUGCCAACUUGAGGCUCACGGACAAAUAGGUCUUAUGGAUUUGGUCGGGAGAGCUUAGUAUAAGAGCAUGCCUUAGGCACGCCAAACCUAGAUUUCUGUGAUCCGACAAAUACCAUCUCUCCAUCUUGAAGGAAGUCACAGAGCGUACAGUUGGUACGAGCAUGAUAAACUAUUCGUUCAACACCGUAAGAGAAUCGCGAAUCUGUGCGAUAGGAUAUCGACAAGGCAUUUCUGUUCCCUUCUGACACCCGUGCAAGGUGGCAUUUAGACAAGCCAAUCUCCCUAUCGGCAAUGGCGGUUCAUGUCCGACCUGCUCGGUGAUGGUUAUCCGCCAACGGAUUGGCUAAUCGCUUUUCCAGUCAUUGUUAAGGUAUACUUACUGAGUAUGAAUCCCCGUAGCAUUCGAGGAAGGGAGUCGGUAUCGCGGCGAUGGAUGGACCAGAGUGCCGUCA\n",
      "\n"
     ]
    }
   ],
   "source": [
    "transcribed_rna = data_string.replace('T', 'U')\n",
    "# this can also be done in biopython using seq.transcribe()\n",
    "print(transcribed_rna)"
   ]
  },
  {
   "cell_type": "markdown",
   "metadata": {},
   "source": [
    "Finding the reverse complement of a DNA strand (time to start using BioPython)"
   ]
  },
  {
   "cell_type": "code",
   "execution_count": 5,
   "metadata": {},
   "outputs": [],
   "source": [
    "from Bio.Seq import Seq"
   ]
  },
  {
   "cell_type": "code",
   "execution_count": 6,
   "metadata": {},
   "outputs": [
    {
     "name": "stdout",
     "output_type": "stream",
     "text": [
      "CTGGTTACACTTTCAACTCTGGTTGTCTTCATACGGCGCAACATTCCCTACTATAGGGGGCCAGCCGGATTTGTGTTGATATTTAAAGGCCATCCCCACAGACTGTGTGGGCTTGCTCCTCACACTCCGCGCTGTTTTTGGGACGCGCGTCAGGTACACGGTTACTGCCCGGTCCCCACTGTCGTGACCACCACGCCCTGTGGCAAATCGGCGACTAAGAGCCGCTTAAGGGCTTCCCTGGGCGCGGATAGAACCCCATTCCGCGATATGGCTCCCACCGCGGCATGTCGGGATGTTTGTAGGAATCGGACAGCAGCCTTTAAAGGTCGGCTTTTACCCACTGCTGCGCGTTCGGTGTGGGAAGGAGTCATGGAGTTTAACAGTTATGGACGTCTCAGCAATTTCGCCTTAGACGCAACCCGCTCATTGCCGTAGTAATTAAAGTGATCTCTAATTGATCGACACAGTACCCGTGCGGGTGCCCTCGAAACAGACGTGCCCTGAAGTGCTTTTGTAAGGTCAAACAACTTTTCGAGACTGTCGCATAACCATGCGAATCACCTGGAGATACTGTGGATGCCTCACGAATGACCATAAGTTAATGCTCTTCAAAGCCAGGGCGTGGGAACAGAAGTGGTGTACCCGTAGTACCGCTAGCCTCTGTCACTCATAGTGATAAGTTAATACGTCGCCTTATAGTAAAATCATTTACTGGGAACTGCTGTATGCGATCTCTCCTTCTTTCCACTGCGAACGTATCCGTAGACTTCCGATCTGCTGTGTCCCTCATTGGTACAAAACAG\n",
      "\n"
     ]
    }
   ],
   "source": [
    "data_file = open(r'C:\\Users\\mikea\\Documents\\Python Practice\\bioinformatics\\rosalind_project\\DNA\\rosalind_revc.txt')\n",
    "data_string = data_file.read()\n",
    "seq = Seq(data_string)\n",
    "print(seq)"
   ]
  },
  {
   "cell_type": "code",
   "execution_count": 7,
   "metadata": {},
   "outputs": [
    {
     "name": "stdout",
     "output_type": "stream",
     "text": [
      "\n",
      "CTGTTTTGTACCAATGAGGGACACAGCAGATCGGAAGTCTACGGATACGTTCGCAGTGGAAAGAAGGAGAGATCGCATACAGCAGTTCCCAGTAAATGATTTTACTATAAGGCGACGTATTAACTTATCACTATGAGTGACAGAGGCTAGCGGTACTACGGGTACACCACTTCTGTTCCCACGCCCTGGCTTTGAAGAGCATTAACTTATGGTCATTCGTGAGGCATCCACAGTATCTCCAGGTGATTCGCATGGTTATGCGACAGTCTCGAAAAGTTGTTTGACCTTACAAAAGCACTTCAGGGCACGTCTGTTTCGAGGGCACCCGCACGGGTACTGTGTCGATCAATTAGAGATCACTTTAATTACTACGGCAATGAGCGGGTTGCGTCTAAGGCGAAATTGCTGAGACGTCCATAACTGTTAAACTCCATGACTCCTTCCCACACCGAACGCGCAGCAGTGGGTAAAAGCCGACCTTTAAAGGCTGCTGTCCGATTCCTACAAACATCCCGACATGCCGCGGTGGGAGCCATATCGCGGAATGGGGTTCTATCCGCGCCCAGGGAAGCCCTTAAGCGGCTCTTAGTCGCCGATTTGCCACAGGGCGTGGTGGTCACGACAGTGGGGACCGGGCAGTAACCGTGTACCTGACGCGCGTCCCAAAAACAGCGCGGAGTGTGAGGAGCAAGCCCACACAGTCTGTGGGGATGGCCTTTAAATATCAACACAAATCCGGCTGGCCCCCTATAGTAGGGAATGTTGCGCCGTATGAAGACAACCAGAGTTGAAAGTGTAACCAG\n"
     ]
    }
   ],
   "source": [
    "reverse_complement = seq.reverse_complement()\n",
    "print(reverse_complement)"
   ]
  },
  {
   "cell_type": "markdown",
   "metadata": {},
   "source": [
    "Using Fibonacci numbers to analyze population size.\n",
    "\n",
    "Return: The total number of rabbit pairs that will be present after n months, if we begin with 1 pair and in each generation, every pair of reproduction-age rabbits produces a litter of k rabbit pairs (instead of only 1 pair)."
   ]
  },
  {
   "cell_type": "code",
   "execution_count": 8,
   "metadata": {},
   "outputs": [],
   "source": [
    "def fib_loop (months, offspring):\n",
    "    parent, child = 1, 1\n",
    "    for itr in range (months - 1):\n",
    "        child, parent = parent, parent + (child * offspring)\n",
    "    return child "
   ]
  },
  {
   "cell_type": "code",
   "execution_count": 9,
   "metadata": {},
   "outputs": [
    {
     "data": {
      "text/plain": [
       "11"
      ]
     },
     "execution_count": 9,
     "metadata": {},
     "output_type": "execute_result"
    }
   ],
   "source": [
    "fib_loop(5, 2) # 5 months, 2 offspring per litter\n",
    "# o = child, O = parent\n",
    "# month 1: [o]\n",
    "# month 2: [O]\n",
    "# month 3: [O, o, o]\n",
    "# month 4: [O, o, o], [O], [O]\n",
    "# month 5: [O, o, o], [O], [O], [O, o, o], [O, o, o] = 11 pairs"
   ]
  },
  {
   "cell_type": "code",
   "execution_count": 10,
   "metadata": {},
   "outputs": [
    {
     "data": {
      "text/plain": [
       "48127306357829"
      ]
     },
     "execution_count": 10,
     "metadata": {},
     "output_type": "execute_result"
    }
   ],
   "source": [
    "fib_loop(35,4)"
   ]
  },
  {
   "cell_type": "markdown",
   "metadata": {},
   "source": [
    "Find CG content of a DNA sequence (pythonic)"
   ]
  },
  {
   "cell_type": "code",
   "execution_count": 11,
   "metadata": {},
   "outputs": [],
   "source": [
    "data_file = open(r'C:\\Users\\mikea\\Documents\\Python Practice\\bioinformatics\\rosalind_project\\DNA\\rosalind_gc_9.txt')\n",
    "data_string = data_file.read()\n",
    "seq = Seq(data_string)"
   ]
  },
  {
   "cell_type": "code",
   "execution_count": 12,
   "metadata": {},
   "outputs": [],
   "source": [
    "from Bio import SeqIO\n",
    "from Bio.SeqUtils import GC\n",
    "import sys"
   ]
  },
  {
   "cell_type": "code",
   "execution_count": 13,
   "metadata": {},
   "outputs": [
    {
     "name": "stdout",
     "output_type": "stream",
     "text": [
      "['Rosalind_9431', 'Rosalind_4867', 'Rosalind_8496', 'Rosalind_2424', 'Rosalind_5530', 'Rosalind_6018', 'Rosalind_8113', 'Rosalind_2397']\n",
      "[Seq('AGTGCTATAACCTATACTCGAAGCCACCACAGGCCGAGCGATTAGCATGCACCG...GCG', SingleLetterAlphabet()), Seq('AAATAGAGGTTTCCTTTGGCGAATGTTCAATGCTGTTAACAGTTCGTATAATGT...GGT', SingleLetterAlphabet()), Seq('GCCCCTTGGCACGCTAGACCGTGCATCATATTACCTATTAAGATCTGCCACGAC...TGG', SingleLetterAlphabet()), Seq('ACTCGCAGCGTGTAGACGTTGGTTGGTGCTTTCTTGAAACGCCGGCACACCGAC...AAG', SingleLetterAlphabet()), Seq('GTCGTCATCGAATGCAAGGAAAGGGTCCCCAGTAATCCCATCAGGAGTAACACT...GAT', SingleLetterAlphabet()), Seq('TTCTACTCAGCCTGCGGGAGGGGGTTAATGGTCGAAGTCGATAGATATCCGATC...GGT', SingleLetterAlphabet()), Seq('ACTTTGCTTCCCTTAGAGGCCCACACCTCCGTGAGCCCCATTGTTAGATAGCGG...TTA', SingleLetterAlphabet()), Seq('ATACAAGATCGCCTCTTATCTTCGTTAGAATGCTCCGCATGCACGCAAGGCAAG...ATG', SingleLetterAlphabet())]\n"
     ]
    }
   ],
   "source": [
    "data_file_path = r'C:\\Users\\mikea\\Documents\\Python Practice\\bioinformatics\\rosalind_project\\DNA\\rosalind_gc_9.txt'\n",
    "\n",
    "headerList = []\n",
    "seqList = []\n",
    "\n",
    "for record in SeqIO.parse(data_file_path, 'fasta'):\n",
    "    headerList.append(record.id)\n",
    "    seqList.append(record.seq)\n",
    "\n",
    "print(headerList)\n",
    "print(seqList)"
   ]
  },
  {
   "cell_type": "code",
   "execution_count": 14,
   "metadata": {},
   "outputs": [],
   "source": [
    "def cg_content(sequence): # the pythonic way\n",
    "    c_count = (sequence.count(\"C\"))\n",
    "    g_count = (sequence.count(\"G\"))\n",
    "    total_count = len(sequence)\n",
    "    cg_content = (c_count + g_count)/total_count * 100\n",
    "    cg_content = '{:.6f}'.format(round(cg_content, 6))\n",
    "    return str(cg_content)"
   ]
  },
  {
   "cell_type": "code",
   "execution_count": 15,
   "metadata": {},
   "outputs": [
    {
     "name": "stdout",
     "output_type": "stream",
     "text": [
      "Rosalind_9431 51.642710\n",
      "Rosalind_4867 47.490820\n",
      "Rosalind_8496 48.135198\n",
      "Rosalind_2424 49.822064\n",
      "Rosalind_5530 49.284928\n",
      "Rosalind_6018 49.599084\n",
      "Rosalind_8113 48.190045\n",
      "Rosalind_2397 50.749465\n"
     ]
    }
   ],
   "source": [
    "list_size = len(seqList)\n",
    "for i in range(list_size):\n",
    "    string = seqList[i]\n",
    "    print(headerList[i] + \" \" + cg_content(string))\n",
    "    "
   ]
  },
  {
   "cell_type": "code",
   "execution_count": 16,
   "metadata": {},
   "outputs": [
    {
     "name": "stdout",
     "output_type": "stream",
     "text": [
      "Rosalind_9431 51.642710\n",
      "Rosalind_4867 47.490820\n",
      "Rosalind_8496 48.135198\n",
      "Rosalind_2424 49.822064\n",
      "Rosalind_5530 49.284928\n",
      "Rosalind_6018 49.599084\n",
      "Rosalind_8113 48.190045\n",
      "Rosalind_2397 50.749465\n"
     ]
    }
   ],
   "source": [
    "#this can also be done with biopython\n",
    "from Bio.SeqUtils import GC\n",
    "for i in range(list_size):\n",
    "    cg_content_bio = GC(seqList[i])\n",
    "    #cg_content_bio = round(cg_content_bio, 6)\n",
    "    cg_content_bio = '{:.6f}'.format(round(cg_content_bio, 6))\n",
    "    cg_content_bio = str(cg_content_bio)\n",
    "    print(headerList[i] + \" \" + cg_content_bio)"
   ]
  },
  {
   "cell_type": "markdown",
   "metadata": {},
   "source": [
    "Counting point mutations between two sequences of equal length: The Hamming distance between two strings having the same length is the minimum number of symbol substitutions required to transform one string into the other. If the strings are given by s1 and s2, then we write the Hamming distance between them as  dH(s1,s2)"
   ]
  },
  {
   "cell_type": "code",
   "execution_count": 17,
   "metadata": {},
   "outputs": [
    {
     "name": "stdout",
     "output_type": "stream",
     "text": [
      "['GTTTCTAAGAGGAGGTCAACGCGGGTCCCCCTTCATTTTCCGTGGGAGTATCGCCAGGTAAAGCATTGCTCATACGAGACGAAGTTTGAGCTCTAATGTGACCTCTCGAACAGTAGTCCTAGGAGATGTGTGCTGGACGGCGGTGAGGTTGTCCAAATCATTAAGCAAGACTTGGATTGAATGCTTCTGTCGATTGTCCGAAAGGAGGCCACTGGACCCGGTCCGCGAAATCCCTAAGATATTATTTAGCACATGGCACGCGCACCTCGTGGAGATTATCGATAGGGGCCTACGTTTGCTATGAGGACAAGCTGGTAGACCAGGAAACCTCCGGCCGCAGCCGGCTCTCGGTCCATACTCCCCTTAGAATAATAAGTGATTAAGGACTATATGTTCATCACATCCGGGGCTTAAGCTATCGTAAGCTCCACGAGAATCGGAATCCTTCCACGTCTGTATGCCGTGGTCTGTATAGTAGAGCCTCAAAGAGTCGCAATAGAGCTCCAGATCAGTCACTTCTACAGAACTGCAGAATCCTCGAGATCAATCTGGATTCTCGGGAAGTCAACCCAATAAGCTATATAGGGCCACGTGGGTTGGGTGTCGTGTCGCGACTACGAGATTAGAGGAGATGGCTTGGGGTATTGGCCTAGTACGAAGAAGAGAAACCCTGGAATGTTGTTCCTCATCTTGCCTGGGCACACCGAATAGAAGGCCTCGCTGCAGTGGTCAATTCCCACGTACGGTTATAAGTCTCGGCCGAACCCTCTGGTCTTCCGCTCTCTTGAGAGGAGTAAACTTGCGCGGATGGGTCGGGGGGTGATCGCATGTTGCGGTATGGTGACACTAGAACGCGCGTGAGTCGTGGGGTCACGGTAAGCTGACATCATGAGAATAGAGCTACTATCTCATAGTACATTCTCGGATAAGAGCCCAGTTCGCCGGTGTCCTGATGCG', 'GCACGTGGGCGCGGTGTTAAACGTGTTCAATTTTGTTTTACGAAAAAGTACAGCCAGATCAAGCACCGTCCCTATGAGCGGCTCGAAGAGCTCTGATGTTACCTTTCACTCACGTGGCGGCTCCTAAGTATGCTTTACGGGATTTAGGTAGTGATGACCATTCAAAAACGGTCAAGTGTAAATGATCCGTAGTCTGCCGAGTGTGCGGCCAGCAGAGCCCGGCCCCCCAATCCCTTAATCGTGATTTAGCATGCGAGTCTCTATCCCTCTATACGACCTTATAATGGGCCTACGGAGTCTTTGACCTTAACGTAGTAACTACTAATAACCCCGGGCCATGCCGGCGCTCGGTGGATGGCACAGTGACACTAGTAATTAATGATGGACTCACGGTTATTCTCCTGCGCGGCCTAAACACAACTTTGTGTTAGGGGTTTCCACGTGATGCCTACTCAGTATGCCCCGGACGAAATAGCGGAGTATCCGTCGCTGGCAGTGAGCCGACTCGTCGAGCCCAACTACTGAATTGTGGAACCCCCCCGTTTACCGTGTACGCATCGTTCGGGCTCGTAAGAATTTAAATTGGCCCCTTCGGCATGCGGGAAGTGTAAAAACGCCGTGGAAGGACGAGTGGGCTTCACGTCTTGACCTAGTACTAGAAAAAGTTCCTGCAGGGCGGTAGGACTTAACCGGCCTTGTCCATCAAAACAGACTGCGTTGGTGCAGTCATTCAGTGCCACGTTCCGTTGCAGATCGCAAACTTATTTTTTTTTAATTTTCTGCCCGCTGATGAAAGATGGCTAGCCTATGGCCAGAGCTGAGGTCGTTTGTCGACGGAAGATGGGACTCGACCACCTTTGATTTGTTGCGATTCGGCAATTTTAATTAATGCACATGTATATACTATCTCGAAGATCGCTGTAGCAAGCGAGCTTATAAGCCGGGTATGCACTTGTG']\n"
     ]
    }
   ],
   "source": [
    "data_file_path = r'C:\\Users\\mikea\\Documents\\Python Practice\\bioinformatics\\rosalind_project\\DNA\\rosalind_hamm_1.txt'\n",
    "with open(data_file_path) as f:\n",
    "    seqList = f.readlines()\n",
    "    \n",
    "seqList = [x.strip() for x in seqList]\n",
    "print(seqList)"
   ]
  },
  {
   "cell_type": "code",
   "execution_count": 18,
   "metadata": {},
   "outputs": [
    {
     "data": {
      "text/plain": [
       "475"
      ]
     },
     "execution_count": 18,
     "metadata": {},
     "output_type": "execute_result"
    }
   ],
   "source": [
    "def hamming_distance(s1, s2):\n",
    "    #Return the Hamming distance between equal-length sequences\n",
    "    if len(s1) != len(s2):\n",
    "        raise ValueError(\"Undefined for sequences of unequal length\")\n",
    "    return sum(ch1 != ch2 for ch1, ch2 in zip(s1, s2))\n",
    "\n",
    "hamming_distance(seqList[0], seqList[1])"
   ]
  },
  {
   "cell_type": "markdown",
   "metadata": {},
   "source": [
    "Mendelian Genetics Problem - Given: Three positive integers k, m, and n, representing a population containing k+m+n organisms: k individuals are homozygous dominant for a factor, m are heterozygous, and n are homozygous recessive. Return: The probability that two randomly selected mating organisms will produce an individual possessing a dominant allele (and thus displaying the dominant phenotype). Assume that any two organisms can mate."
   ]
  },
  {
   "cell_type": "code",
   "execution_count": 19,
   "metadata": {},
   "outputs": [],
   "source": [
    "k = 23 #homozygous dominant\n",
    "m = 30 #heterozygous\n",
    "n = 25 #homozygous recessive"
   ]
  },
  {
   "cell_type": "code",
   "execution_count": 20,
   "metadata": {},
   "outputs": [
    {
     "name": "stdout",
     "output_type": "stream",
     "text": [
      "0.0999000999000999\n"
     ]
    }
   ],
   "source": [
    "two_rec = ((n/(k+m+n))*((n-1)/(k+m+n-1)))*1 # find probability of two homozygous recessive parents mating \n",
    "print(two_rec) # given punnet square, 100% of outcome will be recessive so we mulitply by 1"
   ]
  },
  {
   "cell_type": "code",
   "execution_count": 21,
   "metadata": {},
   "outputs": [
    {
     "name": "stdout",
     "output_type": "stream",
     "text": [
      "0.036213786213786216\n"
     ]
    }
   ],
   "source": [
    "two_het = ((m/(k+m+n))*((m-1)/(k+m+n-1)))*0.25 # find probability of two heterozygous parents mating\n",
    "print(two_het) # given punnet square, 25% of outcome will be recessive so we multiply by 0.25"
   ]
  },
  {
   "cell_type": "code",
   "execution_count": 22,
   "metadata": {},
   "outputs": [
    {
     "name": "stdout",
     "output_type": "stream",
     "text": [
      "0.1248751248751249\n"
     ]
    }
   ],
   "source": [
    "one_het_one_rec = ((((m/(k+m+n))*((n)/(k+m+n-1)))+(((n)/(k+m+n)*(m)/(k+m+n-1)))))*0.5 # heterozygous + homozygous recessive\n",
    "print(one_het_one_rec) # given punnet square, 0.5% of coutcome will be recessive so we multiply by 0.5\n",
    "                   "
   ]
  },
  {
   "cell_type": "code",
   "execution_count": 23,
   "metadata": {},
   "outputs": [
    {
     "name": "stdout",
     "output_type": "stream",
     "text": [
      "0.73901\n"
     ]
    }
   ],
   "source": [
    "recessive_total = two_rec + two_het + one_het_one_rec\n",
    "dominant_total = round((1 - recessive_total), 5)\n",
    "print(dominant_total)"
   ]
  },
  {
   "cell_type": "markdown",
   "metadata": {},
   "source": [
    "Translating RNA into Protein\n",
    "\n",
    "Given: An RNA string s corresponding to a strand of mRNA (of length at most 10 kbp).\n",
    "\n",
    "Return: The protein string encoded by  s"
   ]
  },
  {
   "cell_type": "code",
   "execution_count": 24,
   "metadata": {},
   "outputs": [
    {
     "data": {
      "text/html": [
       "<div>\n",
       "<style scoped>\n",
       "    .dataframe tbody tr th:only-of-type {\n",
       "        vertical-align: middle;\n",
       "    }\n",
       "\n",
       "    .dataframe tbody tr th {\n",
       "        vertical-align: top;\n",
       "    }\n",
       "\n",
       "    .dataframe thead th {\n",
       "        text-align: right;\n",
       "    }\n",
       "</style>\n",
       "<table border=\"1\" class=\"dataframe\">\n",
       "  <thead>\n",
       "    <tr style=\"text-align: right;\">\n",
       "      <th></th>\n",
       "      <th>AA_Code</th>\n",
       "      <th>AA_Abb</th>\n",
       "    </tr>\n",
       "    <tr>\n",
       "      <th>RNA</th>\n",
       "      <th></th>\n",
       "      <th></th>\n",
       "    </tr>\n",
       "  </thead>\n",
       "  <tbody>\n",
       "    <tr>\n",
       "      <th>UUU</th>\n",
       "      <td>F</td>\n",
       "      <td>Phe</td>\n",
       "    </tr>\n",
       "    <tr>\n",
       "      <th>UUC</th>\n",
       "      <td>F</td>\n",
       "      <td>Phe</td>\n",
       "    </tr>\n",
       "    <tr>\n",
       "      <th>UUA</th>\n",
       "      <td>L</td>\n",
       "      <td>Leu</td>\n",
       "    </tr>\n",
       "    <tr>\n",
       "      <th>UUG</th>\n",
       "      <td>L</td>\n",
       "      <td>Leu</td>\n",
       "    </tr>\n",
       "    <tr>\n",
       "      <th>CUU</th>\n",
       "      <td>L</td>\n",
       "      <td>Leu</td>\n",
       "    </tr>\n",
       "  </tbody>\n",
       "</table>\n",
       "</div>"
      ],
      "text/plain": [
       "    AA_Code AA_Abb\n",
       "RNA               \n",
       "UUU       F    Phe\n",
       "UUC       F    Phe\n",
       "UUA       L    Leu\n",
       "UUG       L    Leu\n",
       "CUU       L    Leu"
      ]
     },
     "execution_count": 24,
     "metadata": {},
     "output_type": "execute_result"
    }
   ],
   "source": [
    "import pandas as pd\n",
    "codon_table = pd.read_csv(r'C:\\Users\\mikea\\Documents\\Python Practice\\bioinformatics\\rosalind_project\\codon_table_aa_2.csv')\n",
    "codon_table = codon_table[['RNA', 'AA_Code', 'AA_Abb']]\n",
    "codon_table = codon_table.set_index('RNA')\n",
    "codon_table.head()"
   ]
  },
  {
   "cell_type": "code",
   "execution_count": 25,
   "metadata": {},
   "outputs": [],
   "source": [
    "data_file = open(r'C:\\Users\\mikea\\Documents\\Python Practice\\bioinformatics\\rosalind_project\\Prot\\rosalind_prot_1.txt')\n",
    "rna_string = data_file.read()"
   ]
  },
  {
   "cell_type": "code",
   "execution_count": 26,
   "metadata": {
    "scrolled": false
   },
   "outputs": [
    {
     "name": "stdout",
     "output_type": "stream",
     "text": [
      "MRDIQSACPVIRPVCRFLKPKVVGAKSHIFLKLRHLGYVIVQIAVEPWNSSICRGFSCFTGVNGGGRLCCAPFSHRLLMHVDMNFPYLRLGAGRGRCPQKGGILMTAPRLASPDTNLCLGAQTFSLCCCLRPVESAEGKCFYFSAATKLSAIVQFIVDSVRKALESLDSGTLVPRVRRQVLFRVSFLRHPRRALDNAGSGRPLASVCNNQKDRSISGTARHWLACPQERGNSSPPHARGKGSKRQVYMSLTIEAVTQPGLRPPCGFAETLPFTLILTTVINTETVHYWVFSDTHGDTRWGFLMGLLLTDSIAITRDMGLPAPYMVLQSAFRKIKPPGAKYRTKPDIEGNQFRFPTLDADARAVANGSEILSCYRPGDWIFLFRGKGDVASMSATPGDAILFSEIRSGARTSLCAINRLATSIICDLKPSMGHAIGPCLCQPRSQSEESRFTKVEGRGHPHLSPKTQGSRVSSKRAWGSVRLRESFGAIPRQHACTLTSFRRPRYEMLCDLYVSAEFRWCAVKFSRPQGNVGAARTTNLSGVREHLLVRTMGHGKRGTRTLVQYCRRHAPRLFLTNHPKVGIGVVLECPTLHGLHKYGFRESFGRPVLDSCLDKPIRSIMGTPSGYKGYASSIKQNLRVLYARVWIMRPRRHCGDRSPVRPIQICNETRLLGHRAADPRTSHRVRCGNSRFFAKSPHACHYLVHETFAIMRMCADPRYPDPMGLNRVIPKHKSRVVVLVLPSTHEHGHVHKSDGSSGTTRWLNVSDCSCVAERQKCFRLSLSSEWRHRHVRLVGSLGSRVLQITILAYPIREKPSGRVCRKQTPILLVPKPTATHSETAHQSTRAHIEFSNSMFTLERLQRSANCSIAYNSWAVPFFLQGRRGRKFGRAVSYIFWLPPVCVVTSALRRSSAEYMYTVRSQRKVRKTRGRLYVHASNPHGVMVCIDTVAQADLLSTAYFHYLYKRPSHVVDLVLAFPPRPITLDVPPGMFRISERVGHGYQTSENARTPVLHTESVPEIVDGEPDLCFVPLGLVVLGSVCLQDRSDAIDVLTYRVFIIWKRLVCISDAEHVVHIRHYWISYQVTWNDCARPTHFCAIRLTSERCFIGGLWSGKRGSMKSQLALERRTCRSTRRTRPVSYRHRPVSCVSTRDVSLDHDLTDGAKERNVINYGNACTFTNLITLSFRSHNEPANVIRHLLTMHVSVKRVLVNPGAFLVIDVTVGCICFVSTIRRMTQGKRTESLQGHGIRRITGLPSNCCCNPHAAQRRSLKRDSRRLHLAGEYSVAFCERGLFCQGSSLSRSRRRGRMTYPNLLANFLPTNRSDPVPFHIAKSPMKHLSVPFTDANYPNSRRGVCGALRDSNNLVTQFEMYSHRSGLSTIIKNWLILASEPYNVFAPPWRLLLTYGVDYLSSLESMCRGKVDTTRTSPRDAPPKIVLLPTCSQSVSRRLMSTYTVRLFATVWFGLPAPKIPRDGSPSDHRVWSLETVIGEGSHCLVRMQGSYPVIITFVRGISGDFLHKPAPTARWSVVSSDFAYSLRTPCRSSRLLKAKCSVRSPRHSFRGRLVLMPLSRRQLTVPKQKDPMVGSGSTKILLVVPDNHTIGVELPHRSRHCAGFTTRSTTCSLLQWNSKVAAMSSALPRARELNLLVRPFHSHERKGRGVVTSGQRWTLTLILKGRVRQRWNIHIEVVRGLRRLRFTALHPRSQSKYQAGSMPFWKREMRVNEGPHLYADRKYQWRSTQVEKSGHFATSLVPEDSSHVLKAIRVSIVGCARLSAVTQTFTLTIHTLCFRDSPGYFVVGVHGLYLRILEDSQVTSASELPGARREHQWWNTLDHNGERYWTFTGSDCAAGNTAPERRPRCIAIKLSERLGKCCHNHGKALWTRPNWRPVLRLKKELRVYLTSTYARFRYYVTACQFVTSITTVLGLSYGCPIHLKIYPFRKNQRLLTQYIRRRLRSAPFRRRSHKCRGMVARVYSSDLPILDFSRSCRSKPVHYVAQFYLVFTVNSRINGDIQAPLFPSCPRYHSVLLGILVFGQRHLDLIWILLVQADGSIHRTGCASFPTRPVFSGCYDLTHRPPSAITCSLVDGSYSGKLCVQSRMEVRVYPRLQLTIIFPCRKQVGTAPLPHLKKGVKRPTPSRKGVSTAAYRPGRECVTLCVPRHNSLVHGWRTSLLHYFAVNGKTGHACYRLERQQSRGPQGYNAVVPELARRLEGSASASQLYRNHERSIRHDIHSAVLRAHVAHPQWNPGDQTNLVYWSTSSYRGQATLPRAADTLAAKLDYGEFRRGLSLSSVQASIDPLDRQKPGVHNLGTSLGPALCGLWCYVHWRRSTQQHSGSVYTSTNPAVHHHKKSPREKSSPRVLRDHDSNAITGVKLSPQVSTGDRPVSVVGTRTLRTPSGGDEANPRLIFNVVRCGKILHGGVCGLAYIIRTPRFYHWLWEASGRSHLFRLQIYLIRSIAAPYNVNLLVFRKRISAAAGRLLDFNSFSSKTLIHGRAILAPVRGWPLLCAPGATPRPFRNASHPVIGRYFRAALTLRCFAIPAPYDSDSHRRAAPINCNRLPICRMNIIIFTSYPIIRRTNIVGYSPYIPIRFSIRRVSALLRHQESRKTPVNGIREGSWRFGGINGPSDCIEAFVRFINWCTSNGDFDSPIIQPSRAPFHDTAGHMEQNNETTEASNHPKTMPLIRVSEMMDTVRPTAWRIMSYRMLCPSILPRTLGRASKLRKSTLRPSHLVQPSVIPRSASTASGIVKMRKGIHLSWRGFCPMRANESGVICVIDRALGLSRNTFLKFIRMFPCLLARLFGSDPDSVPKLCPCALPYSSTSLTYTLLIGLRWGKPIAGNDRCGLLRELNSSTTYSRYVALKMSSTINTAALRSFLMPDATLYSELRRGKNSLIQIYSVVRSIAWISRGRGIKRPGVVIRQVSNLERLSIRLIGLRSKFPPSGRDFSFNFPTRGQGLATRRGC\n"
     ]
    }
   ],
   "source": [
    "prot_string = \"\"\n",
    "\n",
    "for i in range(0, len(rna_string)-(3+len(rna_string)%3), 3):\n",
    "    seq = rna_string[i:i+3]\n",
    "    cod = codon_table.loc[[seq], 'AA_Code']\n",
    "    cod = cod.iloc[0]\n",
    "    if cod == \"STOP\" :\n",
    "        break\n",
    "    prot_string += cod\n",
    "\n",
    "print (prot_string)"
   ]
  },
  {
   "cell_type": "markdown",
   "metadata": {},
   "source": [
    "Locating motifs within a DNA string\n",
    "\n",
    "Given: Two DNA strings s and t (each of length at most 1 kbp).\n",
    "\n",
    "Return: All locations of t as a substring of s."
   ]
  },
  {
   "cell_type": "code",
   "execution_count": 27,
   "metadata": {},
   "outputs": [
    {
     "name": "stdout",
     "output_type": "stream",
     "text": [
      "['TGAGCTTGCGTTATTGAGCTTTGAGCTTTTCCCTGAGCTTGTGAGCTTTGAGCTTCTCTGAGCTTTGAGCTTTAACTGAGCTTATCTCCGTGGAGCATGAGCTTTTCCTTCTTGAGCTTTGAGCTTCATGAGCTTTGAGCTTGGAGTTGACGTCGATCTCTCAGTGAGCTTTTGAGCTTATACGCTTGAGCTTTGAGCTTACTCTGAGCTTATCCAACTCTGAGCTTTGAGCTTCATGAGCTTGAGTGAGCTTTAACCCTTGAGCTTTTTCATGAGCTTCTCCGTGAGCTTAACGTGAGCTTCGTTGAGCTTATGAGCTTTGAGCTTCGTGAGCTTTGAGCTTTGAGCTTCTCTGGCTGAGCTTCGTCACTTCTGAGCTTTGTGCCTGAGCTTCCTGAGCTTCTGAGCTTTGAGCTTCTGAGCTTATGAGCTTCCGCTGTGAGCTTTTATGAGCTTTATGAGCTTTAGGACTGAGCTTCGTGAGCTTGTACGATGAGCTTAGTGGATGTTGAGCTTATGGTGAGCTTAATGCTGAGCTTTGAGCTTATATGAGCTTCAGTATGCATTGAGCTTAGATCTGTGAGCTTTTGAGCTTTGAGCTTTTGAGCTTCACCTCGCGCGGTGAGCTTTTAGCTTGAGCTTGTGCGAGTCCGTTCCCAGTGAGCTTGTCAGGTGAGCTTGCCCCCTTGAGCTTTGAGCTTTGAGCTTAGTTTGTAATGAGCTTTGAGCTTTGAGCTTCTGAGCTTTGAGCTTGGTTGAGCTTTGAGCTTGTGAGCTTGCTGAGCTTCATAAACTCCTGAGCTTCTTGAGCTTTGAGCTT', 'TGAGCTTTG']\n"
     ]
    }
   ],
   "source": [
    "data_file_path = r'C:\\Users\\mikea\\Documents\\Python Practice\\bioinformatics\\rosalind_project\\DNA\\rosalind_subs_2.txt'\n",
    "with open(data_file_path) as f:\n",
    "    seqList = f.readlines()\n",
    "    \n",
    "seqList = [x.strip() for x in seqList]\n",
    "print(seqList)"
   ]
  },
  {
   "cell_type": "code",
   "execution_count": 28,
   "metadata": {},
   "outputs": [
    {
     "name": "stdout",
     "output_type": "stream",
     "text": [
      "[15, 42, 59, 113, 129, 187, 221, 314, 330, 337, 374, 404, 533, 589, 688, 695, 718, 725, 740, 757, 807]\n"
     ]
    }
   ],
   "source": [
    "import re\n",
    "index_list = [m.start() for m in re.finditer('(?=' + seqList[1] + ')', seqList[0])]\n",
    "[m.start() for m in re.finditer('(?=tt)', 'ttt')]\n",
    "# we need to add 1 to each value because python indexing starts at 0 and not 1\n",
    "index_list = [x+1 for x in index_list]\n",
    "print(index_list)"
   ]
  },
  {
   "cell_type": "markdown",
   "metadata": {},
   "source": [
    "Given: A collection of at most 10 DNA strings of equal length (at most 1 kbp) in FASTA format.\n",
    "\n",
    "Return: A consensus string and profile matrix for the collection. (If several possible consensus strings exist, then you may return any one of them.)"
   ]
  },
  {
   "cell_type": "code",
   "execution_count": 29,
   "metadata": {},
   "outputs": [],
   "source": [
    "headerList = []\n",
    "seqList = []\n",
    "\n",
    "data_file_path = r'C:\\Users\\mikea\\Documents\\Python Practice\\bioinformatics\\rosalind_project\\DNA\\rosalind_cons_5.txt'\n",
    "\n",
    "for record in SeqIO.parse(data_file_path, 'fasta'):\n",
    "    headerList.append(record.id)\n",
    "    seqList.append(record.seq)"
   ]
  },
  {
   "cell_type": "code",
   "execution_count": 30,
   "metadata": {},
   "outputs": [
    {
     "name": "stdout",
     "output_type": "stream",
     "text": [
      "GCAGCAGGCGAAGATACTAAATAGACGCTGGGCAAAAGTGATCTCAGTGTTTTACATTTCTCATGAAAATCCGGGAAAAGAGCTTTTCTATCATGGTGGCGAAAGACAAACCCAGAGGACTTCCGCAGTGTAATAGGTCCACACGAACCCTAAAACAACGACGAGGAGGCGCAAACTGTCTAGAAAACCGCGCAACAAGGCGTGTACTCAGGACGAAGGCTAGTGCTGCCACCCAGCCCAGCACAAACAAGCTTGTACCTTGACACCAATTAGGCAAAATGCCGATACGACGACTGCGGGCTCCAAAGGAATTAAGCACACAGCCTTAGCAAACCTAGGGGACTCCCCGAAAAGCTAGCCTAACAGGACACCACCCACTTGACGGCCTAACAATGGCAACGTATATTTCCGGGAAATATGCCGAGACAACAGCTGGGGCGTTCGGCTATCAAAAAGAGGAGGAAACTAACGCAACACCTCCAAGATTATGTCAGGCAGTCCCGGATCGGCGTCAAGGGAGAGGTCTAGCGACGGCAAAACCACAAGACACAAAACTAGCACTGGAGACTCGACGGAAGCGGTAGTAATATAGTGCGGTAAAAAAGAGGGGCAAGATACGCTCGCTAACAAAACCACAACCAGTAGCCTCTGGAACTAGAACAAAACAGCGCCTTACGGCTCCAGTCCCACAGAATGCCAAATGACGGTGACCCTTGGTACGCCGGGCTCGTCGCATGAAGCGAACCCGGGCATCGAGCCCCGTGGACAAGAGCTAATCTAAATATACTAGCGAAAGACCCCCAAGGCTCCAGCTAGTTTATGCAGGAGTTGAAAGCAGGGAGGAAAGAGATGAGACCCATTGCCCGGAATGAACAGCATGTAGCGGCGCGAACAGCGTGCGGAGAGATAATGGTATCCACGAGGCCTTCTTAGTTCCCCGAGACGGACCCGTTACACA\n",
      "A: 1 2 5 3 1 4 3 2 1 2 4 4 0 3 2 5 4 3 3 4 4 2 3 2 3 1 0 2 2 3 1 2 1 3 3 4 3 1 3 1 5 2 3 2 2 3 2 2 2 1 2 2 2 5 2 3 2 2 3 2 2 2 4 3 0 6 5 4 3 1 3 0 3 3 2 4 3 4 5 2 3 2 2 2 2 3 2 2 2 3 2 2 3 3 1 2 2 1 2 2 1 4 3 3 1 4 2 4 4 4 1 1 2 5 1 5 0 1 3 2 2 3 1 1 3 2 4 1 0 1 2 4 6 3 3 3 1 2 2 1 5 2 4 2 1 6 3 2 1 1 2 5 5 4 4 1 6 6 2 1 4 1 3 4 3 2 5 4 1 0 1 2 3 3 3 1 2 2 2 2 0 4 2 5 3 3 4 1 3 2 1 2 2 4 5 1 4 4 1 1 2 4 1 2 2 5 3 2 2 4 2 1 4 2 1 5 3 3 2 2 3 3 1 2 1 2 2 2 1 2 5 3 1 3 5 1 0 1 2 5 1 1 5 0 5 3 4 1 3 3 3 1 2 3 0 2 6 2 2 3 2 2 3 1 4 3 2 4 5 2 3 3 2 2 2 4 4 4 3 1 3 1 3 2 4 3 3 2 1 3 2 1 5 1 3 2 3 2 2 2 3 2 2 2 3 3 3 1 0 4 3 2 3 4 3 2 1 3 1 5 1 4 2 1 2 2 1 3 1 2 5 5 4 2 2 1 3 2 2 3 2 3 0 1 2 3 2 3 1 3 4 5 4 1 2 3 4 2 3 1 3 5 4 1 3 2 1 3 2 5 1 1 3 1 2 2 4 1 3 3 1 5 1 2 1 3 1 3 4 3 1 4 3 1 0 3 1 3 3 1 2 2 3 1 4 3 2 2 2 2 2 3 0 4 3 3 3 4 2 2 2 1 1 4 3 3 2 6 4 2 5 2 1 2 2 3 0 1 2 2 0 1 1 1 0 2 2 5 2 1 3 5 4 5 5 2 4 2 2 4 1 1 3 4 5 2 3 3 3 2 2 2 6 4 2 4 2 2 1 2 2 4 3 2 4 2 3 3 3 1 1 2 4 2 3 1 4 3 0 0 2 3 2 2 4 2 2 0 2 2 2 0 1 3 3 0 2 0 3 3 4 0 2 2 3 2 6 1 2 2 3 0 2 1 2 4 3 3 4 2 1 4 0 3 3 2 4 0 4 1 5 5 3 3 0 1 3 1 2 5 2 0 1 3 4 1 4 0 2 1 2 4 1 1 3 4 3 2 3 2 1 2 5 2 3 3 3 1 3 3 3 1 2 2 2 2 2 1 5 5 4 4 3 4 1 4 2 2 2 1 1 4 5 2 4 3 3 3 2 2 1 2 3 2 3 4 4 3 5 6 3 4 1 0 3 2 3 3 2 3 3 1 1 4 2 3 3 3 2 3 1 2 4 3 1 3 5 2 4 5 1 4 3 4 4 1 3 2 2 1 1 1 1 2 6 1 2 1 2 2 2 3 4 2 1 2 1 2 3 3 5 2 3 4 1 2 0 2 5 6 4 0 1 4 0 1 2 2 2 3 2 2 2 2 2 0 1 1 4 3 1 2 3 1 2 0 2 3 2 1 3 1 1 1 5 2 0 3 4 1 3 3 4 4 0 2 2 3 2 0 1 4 1 1 2 6 3 2 1 1 2 2 2 1 1 3 2 4 4 1 4 2 2 0 4 3 3 3 3 5 4 3 3 4 2 3 0 1 4 2 3 1 3 4 3 2 3 2 1 3 3 1 4 3 2 0 2 1 1 1 5 0 1 2 5 2 3 0 2 3 1 1 2 5 2 2 4 2 1 2 1 4 5 3 0 1 4 1 1 1 4 2 2 4 3 3 1 3 2 3 0 0 6 2 3 1 2 1 3 0 2 2 2 1 1 3 2 5 5 0 2 5 6 3 4 2 2 4 1 2 2 4 2 0 2 1 3 2 1 1 5 6 2 6 2 2 1 2 2 2 1 1 4 1 4 2 5 1 4 5 1 2 2 1 3 2 2 1 3 2 2 4 1 3 0 1 3 1 1 2 2 5 2 1 3 0 1 2 1 4 5 2 4 3 1 0 3 0 0 1 2 2 1 5 0 3 1 4\n",
      "C: 3 3 1 2 4 1 1 3 4 2 2 2 3 2 1 2 5 2 1 1 3 2 3 1 3 4 2 3 3 1 0 0 4 3 1 0 3 3 3 2 1 2 4 1 3 3 2 1 2 2 1 3 2 2 4 1 2 1 1 5 2 3 1 1 3 0 1 3 2 2 4 5 1 1 2 3 3 1 1 2 2 3 6 1 2 3 2 3 0 3 0 5 2 2 3 1 3 3 1 4 3 1 3 1 3 2 3 4 4 0 4 5 3 2 2 1 1 2 3 3 2 1 5 3 1 3 2 1 1 2 1 2 0 1 2 1 2 3 3 4 1 3 4 4 1 1 2 3 4 5 2 1 2 2 2 3 1 1 4 3 1 6 1 2 1 1 2 0 2 5 4 3 3 3 2 3 1 1 3 3 2 2 2 2 2 1 1 4 4 3 6 2 4 2 1 4 2 4 2 2 4 1 2 1 3 1 5 3 5 1 2 3 1 4 2 1 3 2 0 3 1 2 3 2 2 4 2 2 5 5 2 5 3 4 3 3 4 5 3 2 3 4 2 5 2 1 1 4 2 1 2 3 3 1 3 1 1 5 5 2 3 2 1 5 3 4 4 1 3 1 1 1 3 2 4 0 1 3 2 3 1 4 4 3 1 2 3 3 1 3 3 2 1 4 2 0 4 2 2 3 6 3 3 5 3 2 3 3 2 3 3 3 0 4 3 0 4 3 5 1 5 2 2 4 6 2 3 3 4 3 0 3 3 5 4 2 3 2 2 2 2 3 6 2 3 4 6 4 1 3 3 2 4 1 4 1 3 1 4 4 1 1 1 3 3 2 4 3 4 1 3 4 3 4 4 4 3 4 1 1 3 2 5 3 3 4 6 2 0 3 4 3 1 3 2 1 3 3 2 5 1 2 3 2 3 2 1 1 3 4 2 2 1 1 3 3 1 2 2 0 3 3 2 4 2 2 4 0 2 5 1 2 4 3 1 1 1 4 4 1 3 2 4 2 2 3 3 3 2 4 3 4 3 1 2 2 2 2 2 1 2 1 3 3 1 3 0 2 2 3 1 3 2 1 4 2 4 4 3 5 5 2 3 3 2 3 1 2 1 2 2 5 3 3 2 3 2 0 1 5 3 5 2 2 2 3 3 3 2 3 2 3 3 3 1 2 1 1 3 2 2 3 0 1 4 1 2 1 4 2 2 4 1 1 3 4 3 3 2 6 4 3 5 3 3 2 4 4 2 5 0 2 3 1 4 2 3 2 3 1 4 3 3 1 3 4 2 4 2 5 1 2 5 2 1 1 3 1 4 2 2 2 2 3 2 2 2 3 1 1 3 3 0 2 3 1 1 2 1 2 2 1 3 4 2 1 1 2 1 3 4 1 0 0 2 0 3 5 2 4 4 4 1 3 1 2 2 5 0 0 3 4 4 4 3 3 3 2 5 6 3 1 3 3 2 4 5 0 4 0 1 3 3 2 4 1 3 1 4 1 4 3 3 2 3 4 3 2 4 1 4 6 2 1 1 3 2 3 3 2 4 4 3 0 2 3 5 3 2 5 2 1 2 2 3 0 4 4 1 2 2 3 2 2 4 1 2 3 2 3 4 7 4 3 1 2 2 2 2 4 2 3 5 1 2 1 5 2 3 3 3 5 1 4 3 1 2 2 1 3 4 1 0 2 5 4 3 2 3 1 6 2 0 4 0 2 2 3 4 4 4 2 0 2 2 3 5 2 3 2 2 2 5 1 2 2 3 5 0 3 1 2 2 3 1 2 5 2 2 3 5 1 3 3 3 2 2 3 4 4 4 3 2 2 2 2 3 2 4 3 1 0 3 1 2 3 0 2 2 3 2 2 3 2 2 2 4 1 1 2 0 1 0 1 1 6 2 3 0 1 2 1 2 1 2 2 1 3 1 3 3 1 1 3 1 3 3 5 3 3 3 1 3 4 4 2 2 1 1 2 2 1 1 4 2 2 3 1 3 2 2 1 2 5 2 2 5 1 5 2 1 2 4 1 3 4 2 1 1 3 1 3 1 2 1 2 1 2 2 3 2 2 1 1 3 2 6 4 3 4 2 1 2 1 6 4 0 2 4 3 3 2 2 2 1 4 3 4 4 1 2 2 2 4 1 1 3 5 5 5 2 1 2 2 4 2 3 1\n",
      "G: 4 3 1 5 4 1 5 5 2 5 0 2 6 2 2 1 0 1 3 2 2 2 1 4 3 4 7 3 1 5 5 5 3 2 3 4 2 5 0 4 3 1 1 3 2 2 4 3 4 3 1 0 2 2 2 3 2 2 2 0 2 3 3 2 4 3 3 1 2 3 2 3 4 5 5 1 2 1 2 4 3 4 2 3 2 0 2 2 3 2 3 2 2 1 5 5 1 5 6 4 5 2 2 3 5 3 3 1 1 2 2 2 3 3 5 0 6 4 3 3 2 1 2 3 4 3 1 4 4 5 2 3 3 2 3 4 4 1 3 3 2 3 1 1 5 2 3 2 2 2 1 2 1 2 0 3 1 1 3 4 3 0 5 4 4 4 1 5 5 1 5 3 1 1 2 3 1 5 1 2 1 2 5 2 2 3 3 3 1 4 2 3 2 1 3 3 2 1 5 4 2 5 2 7 1 4 2 1 1 1 5 5 3 2 5 0 3 5 4 3 2 2 4 1 5 2 2 3 1 1 1 1 3 2 2 4 2 3 3 1 6 3 1 3 2 3 3 2 3 3 4 3 1 2 4 3 1 2 2 1 1 3 3 1 0 1 3 2 1 3 2 3 4 5 2 2 4 3 3 2 4 1 1 4 4 1 1 3 4 2 3 4 2 3 1 4 2 5 3 4 0 0 3 2 1 3 2 4 5 3 3 0 3 0 3 5 3 2 2 0 2 2 4 1 1 2 2 1 5 2 3 1 1 1 1 3 1 4 3 4 4 2 2 3 3 2 1 0 5 1 1 1 2 5 2 1 2 4 2 2 2 1 3 3 1 4 5 3 1 2 3 2 2 2 3 2 2 2 2 2 4 2 2 4 5 1 3 1 3 1 3 1 3 2 5 4 3 2 3 1 4 1 1 3 1 1 3 1 2 3 3 4 6 2 1 1 2 1 2 7 2 3 4 2 4 2 1 3 0 1 4 3 3 0 4 4 7 5 2 5 1 3 3 4 5 2 0 1 1 1 1 1 1 2 1 3 3 4 3 1 4 5 2 1 1 3 3 3 3 2 5 3 1 3 1 1 1 1 2 1 2 0 2 5 1 0 1 3 2 4 1 0 1 4 4 3 1 5 3 3 3 1 3 3 2 1 2 4 6 3 3 1 3 2 3 6 5 5 3 4 1 4 5 1 1 2 1 4 2 3 3 3 4 5 3 1 3 1 3 1 4 2 2 2 2 3 1 3 3 2 1 2 3 3 2 3 2 5 2 2 2 2 4 4 3 5 1 4 2 3 4 2 1 4 4 3 1 5 3 4 5 2 1 5 1 2 3 1 3 1 3 4 3 5 3 5 4 2 3 2 1 3 1 2 4 1 4 4 4 4 2 2 2 4 3 3 2 1 4 3 0 2 4 2 1 1 1 2 3 2 2 0 4 3 1 2 2 3 2 1 1 6 2 1 4 2 2 1 1 3 5 4 1 2 4 1 0 5 2 3 2 2 1 2 0 3 3 3 2 4 2 1 3 3 3 3 4 4 2 1 3 2 1 4 2 3 2 3 2 1 3 5 3 3 1 6 2 2 0 0 1 2 4 3 3 4 6 1 4 3 2 1 2 1 2 5 6 2 1 2 4 2 2 4 3 5 3 1 3 4 0 3 4 1 2 2 5 3 2 4 1 4 3 1 3 2 3 5 4 5 0 3 4 3 7 1 4 3 4 3 2 3 1 5 5 3 0 3 2 5 2 3 2 4 3 3 0 1 3 1 2 3 1 0 2 3 2 3 3 4 1 5 3 1 3 4 3 3 1 2 1 3 2 2 3 6 3 2 2 3 2 5 3 3 3 4 2 3 0 1 3 5 3 0 3 3 0 5 3 1 6 3 2 3 8 1 2 5 5 4 1 4 3 1 3 3 5 3 5 3 1 7 2 4 3 3 3 2 2 3 1 5 3 2 4 4 5 1 2 3 3 3 1 3 2 4 3 2 1 4 2 4 4 4 3 4 0 5 2 5 3 0 1 1 4 3 5 2 7 3 5 4 2 5 1 3 2 3 1 1 2 4 5 2 1 2 1 2 2 2 3 2 4 4 3 3 1 2 2 1 1 2 5 2 1 2 3 3 3 5 1 4 3 2 4 5 2 3 4 0 3 1 2 2 3 2 3 3\n",
      "T: 2 2 3 0 1 4 1 0 3 1 4 2 1 3 5 2 1 4 3 3 1 4 3 3 1 1 1 2 4 1 4 3 2 2 3 2 2 1 4 3 1 5 2 4 3 2 2 4 2 4 6 5 4 1 2 3 4 5 4 3 4 2 2 4 3 1 1 2 3 4 1 2 2 1 1 2 2 4 2 2 2 1 0 4 4 4 4 3 5 2 5 1 3 4 1 2 4 1 1 0 1 3 2 3 1 1 2 1 1 4 3 2 2 0 2 4 3 3 1 2 4 5 2 3 2 2 3 4 5 2 5 1 1 4 2 2 3 4 2 2 2 2 1 3 3 1 2 3 3 2 5 2 2 2 4 3 2 2 1 2 2 3 1 0 2 3 2 1 2 4 0 2 3 3 3 3 6 2 4 3 7 2 1 1 3 3 2 2 2 1 1 3 2 3 1 2 2 1 2 3 2 0 5 0 4 0 0 4 2 4 1 1 2 2 2 4 1 0 4 2 4 3 2 5 2 2 4 3 3 2 2 1 3 1 0 2 4 1 2 2 0 2 2 2 1 3 2 3 2 3 1 3 4 4 3 4 2 1 1 4 4 3 3 3 3 2 1 3 1 4 4 3 1 1 2 4 1 0 2 4 2 4 2 1 1 4 3 2 4 2 2 3 2 2 4 4 1 1 3 1 1 5 2 1 3 2 2 2 3 0 1 5 4 2 1 3 2 2 2 4 2 2 2 4 1 4 4 3 0 3 2 1 2 2 3 4 3 2 3 1 2 2 2 4 2 1 1 3 3 3 2 2 0 3 2 5 1 3 1 3 4 3 2 3 3 2 0 1 3 2 3 3 2 3 1 2 1 3 4 4 2 1 2 1 1 2 0 4 3 3 2 2 3 4 3 2 3 2 2 3 3 5 3 4 2 4 4 6 3 1 3 1 3 3 3 3 4 3 4 1 3 3 3 0 1 3 3 1 4 2 0 3 2 5 3 2 2 0 2 2 6 4 2 3 3 3 5 1 5 4 3 0 2 2 2 3 1 2 3 4 3 3 2 2 3 2 4 2 2 3 2 2 1 2 3 3 3 3 4 2 1 4 2 0 3 5 5 2 4 3 6 3 2 1 1 3 3 2 6 2 2 1 3 3 2 4 3 3 0 2 3 6 3 2 3 2 2 4 1 1 3 3 3 6 2 5 1 4 2 3 2 3 3 3 2 1 1 3 1 1 1 1 3 2 2 3 1 3 1 2 4 1 1 3 4 4 2 2 3 2 2 5 2 2 0 0 3 2 4 1 3 2 3 3 2 2 3 2 0 2 2 4 2 0 4 3 2 5 3 5 1 2 5 1 2 2 3 5 1 1 3 2 3 0 3 4 3 2 3 2 3 3 3 4 1 4 2 1 2 1 5 2 2 3 5 3 3 0 2 2 2 2 1 3 3 3 2 2 1 0 3 2 4 2 2 1 0 6 3 4 3 1 2 3 1 5 2 2 0 1 3 1 3 2 3 2 1 3 2 4 3 2 4 4 0 3 2 2 3 5 1 1 2 4 5 2 2 2 3 1 0 2 2 1 5 2 4 2 4 2 3 5 3 1 3 4 0 4 2 1 2 0 2 4 5 3 1 5 3 1 3 3 0 4 3 4 0 4 2 2 4 1 4 4 0 5 3 2 3 2 2 2 3 3 2 2 2 0 1 4 3 1 5 2 1 1 1 2 1 2 2 3 7 2 2 1 3 1 1 2 2 3 1 5 1 2 4 1 4 1 3 2 4 3 5 2 3 4 1 1 1 3 1 2 1 2 2 2 4 1 2 3 2 3 3 2 2 5 3 3 2 5 3 4 0 1 5 5 6 3 4 2 2 3 3 3 2 2 5 5 3 2 3 3 1 2 2 1 4 4 3 3 3 4 2 2 3 1 2 1 6 2 1 1 3 3 2 2 2 4 4 2 2 3 1 1 1 3 2 5 3 1 2 0 2 2 2 3 5 2 4 1 2 1 3 3 2 2 2 2 1 2 3 2 1 1 2 5 0 2 3 2 3 2 4 3 2 4 3 1 5 2 2 6 3 4 1 3 2 2 3 3 3 2 1 2 6 5 3 4 4 1 1 5 5 4 3 1 2 0 2 2 1 1 4 4 2 2 1 4 3 6 5 1 3 3 3 2\n"
     ]
    }
   ],
   "source": [
    "def consensusSequence (sequences):\n",
    "    \n",
    "    length = len(sequences[0])\n",
    "    A, C, G, T = [0] * length, [0] * length, [0] * length, [0] * length\n",
    "\n",
    "    for pos in range (0, len(sequences[0]) - 1):\n",
    "        for sequence in sequences:\n",
    "            base = sequence[pos]\n",
    "            if (base == \"A\"):\n",
    "                A[pos] = A[pos] + 1\n",
    "            elif (base == \"C\"):\n",
    "                C[pos] = C[pos] + 1\n",
    "            elif (base == \"G\"):\n",
    "                G[pos] = G[pos] + 1\n",
    "            elif (base == \"T\"):\n",
    "                T[pos] = T[pos] + 1\n",
    "    \n",
    "    con = Seq(\"\") #consensus sequence\n",
    "    aNum, cNum, gNum, tNum, maxNum = 0, 0, 0, 0, 0\n",
    "\n",
    "    for pos in range(0, len(seqList[0])):\n",
    "        aNum = A[pos]\n",
    "        cNum = C[pos]\n",
    "        gNum = G[pos]\n",
    "        tNum = T[pos]\n",
    "        maxNum = max([aNum, cNum, gNum, tNum])\n",
    "    \n",
    "        if (maxNum == aNum):\n",
    "            con = con + \"A\"\n",
    "        elif (maxNum == cNum):\n",
    "            con = con + \"C\"\n",
    "        elif (maxNum == gNum):\n",
    "            con = con + \"G\"\n",
    "        elif (maxNum == tNum):\n",
    "            con = con + \"T\"\n",
    "  \n",
    "    return con\n",
    "\n",
    "def matrixCounts (sequences):\n",
    "    \n",
    "    length = len(sequences[0])\n",
    "    A, C, G, T = [0] * length, [0] * length, [0] * length, [0] * length\n",
    "\n",
    "    for pos in range (0, len(seqList[0])):\n",
    "        for sequence in sequences:\n",
    "            base = sequence[pos]\n",
    "            if (base == \"A\"):\n",
    "                A[pos] = A[pos] + 1\n",
    "            elif (base == \"C\"):\n",
    "                C[pos] = C[pos] + 1\n",
    "            elif (base == \"G\"):\n",
    "                G[pos] = G[pos] + 1\n",
    "            elif (base == \"T\"):\n",
    "                T[pos] = T[pos] + 1\n",
    "    \n",
    "    A_str = ' '.join(map(str, A))\n",
    "    C_str = ' '.join(map(str, C))\n",
    "    G_str = ' '.join(map(str, G))\n",
    "    T_str = ' '.join(map(str, T))\n",
    "    \n",
    "    matrix_dictionary = {'A' : A_str,'C' : C_str, 'G' : G_str, 'T' : T_str}\n",
    "\n",
    "    return matrix_dictionary\n",
    "    \n",
    "print(consensusSequence(seqList))\n",
    "print (\"A: \" + str(matrixCounts(seqList)['A']))\n",
    "print (\"C: \" + str(matrixCounts(seqList)['C']))\n",
    "print (\"G: \" + str(matrixCounts(seqList)['G']))\n",
    "print (\"T: \" + str(matrixCounts(seqList)['T']))"
   ]
  },
  {
   "cell_type": "markdown",
   "metadata": {},
   "source": [
    "Mortal Fibonnaci Rabbits:\n",
    "\n",
    "Given: Positive integers n≤100 and m≤20.\n",
    "\n",
    "Return: The total number of pairs of rabbits that will remain after the n-th month if all rabbits live for m months.\n"
   ]
  },
  {
   "cell_type": "code",
   "execution_count": 31,
   "metadata": {},
   "outputs": [
    {
     "data": {
      "text/plain": [
       "258854078921095007"
      ]
     },
     "execution_count": 31,
     "metadata": {},
     "output_type": "execute_result"
    }
   ],
   "source": [
    "n = 85 # total months\n",
    "m = 19 # rabbit lifespan \n",
    "\n",
    "def fib(n,k):\n",
    "  ages = [1] + [0]*(k-1)\n",
    "  for i in range(n-1):\n",
    "    ages = [sum(ages[1:])] + ages[:-1]\n",
    "  return sum(ages)\n",
    "\n",
    "fib(n,m)"
   ]
  },
  {
   "cell_type": "markdown",
   "metadata": {},
   "source": [
    "Transitions and Transversions:\n",
    "\n",
    "Given: Two DNA strings s1 and s2 of equal length (at most 1 kbp).\n",
    "\n",
    "Return: The transition/transversion ratio R(s1,s2)."
   ]
  },
  {
   "cell_type": "code",
   "execution_count": 32,
   "metadata": {},
   "outputs": [],
   "source": [
    "data_file_path = r'C:\\Users\\mikea\\Documents\\Python Practice\\bioinformatics\\rosalind_project\\DNA\\rosalind_tran.txt'\n",
    "\n",
    "headerList = []\n",
    "seqList = []\n",
    "\n",
    "for record in SeqIO.parse(data_file_path, 'fasta'):\n",
    "    headerList.append(record.id)\n",
    "    seqList.append(record.seq)\n"
   ]
  },
  {
   "cell_type": "code",
   "execution_count": 33,
   "metadata": {},
   "outputs": [
    {
     "data": {
      "text/plain": [
       "2.4125"
      ]
     },
     "execution_count": 33,
     "metadata": {},
     "output_type": "execute_result"
    }
   ],
   "source": [
    "def transition_to_transversion_ratio(s1, s2):\n",
    "\n",
    "    transitions = 0\n",
    "    transversions = 0\n",
    "    \n",
    "    purines = ['A', 'G']\n",
    "    pyrimadines = ['C', 'T']\n",
    "    \n",
    "    if len(s1) != len(s2):\n",
    "        raise ValueError(\"Sequences must be of identical length!\")\n",
    "    else:\n",
    "        for ch1, ch2 in zip(s1, s2):\n",
    "            if ch1 != ch2:\n",
    "                if ch1 in purines and ch2 in purines:\n",
    "                    transitions += 1\n",
    "                elif ch1 in pyrimadines and ch2 in pyrimadines:\n",
    "                    transitions += 1\n",
    "                else:\n",
    "                    transversions += 1\n",
    "                    \n",
    "    rate = transitions/transversions\n",
    "    \n",
    "    return rate\n",
    "\n",
    "transition_to_transversion_ratio(seqList[0], seqList[1])"
   ]
  },
  {
   "cell_type": "markdown",
   "metadata": {},
   "source": [
    "RNA Splicing\n",
    "\n",
    "Given: A DNA string s (of length at most 1 kbp) and a collection of substrings of s acting as introns. All strings are given in FASTA format.\n",
    "\n",
    "Return: A protein string resulting from transcribing and translating the exons of s. (Note: Only one solution will exist for the dataset provided.)"
   ]
  },
  {
   "cell_type": "code",
   "execution_count": 34,
   "metadata": {},
   "outputs": [
    {
     "name": "stdout",
     "output_type": "stream",
     "text": [
      "['Rosalind_5718', 'Rosalind_2693', 'Rosalind_1326', 'Rosalind_9095', 'Rosalind_2426', 'Rosalind_2648', 'Rosalind_0889', 'Rosalind_2132', 'Rosalind_3041', 'Rosalind_3904', 'Rosalind_9058', 'Rosalind_9096', 'Rosalind_3546']\n",
      "[Seq('ATGTGTGATGCAGAAAATTCGTGGGTCTCTTCGCATGGATCAGCGCGGGGCACC...TAG', SingleLetterAlphabet()), Seq('TACGTTACCGAGTAAATTGCACAGCTTCGACTGGGAGTGTTG', SingleLetterAlphabet()), Seq('TACGAGGATTTCTACAGAAGC', SingleLetterAlphabet()), Seq('CTTTGACATTGCCTAGAGGTGTTGACATATATCAG', SingleLetterAlphabet()), Seq('GGGTGAAAACATTCCTCAACCCGGGTATGAGAAGCCTTTATG', SingleLetterAlphabet()), Seq('CATTGCAAATTGAGCCCGACGGATTCCGTAACTCCCGAGTTTGGGTACC', SingleLetterAlphabet()), Seq('GGCACCGGATTGTCACTTTGTATGA', SingleLetterAlphabet()), Seq('ACGCGGAAATGAGACCGGTCTTCCAAATCCTCAACTGTA', SingleLetterAlphabet()), Seq('TGGCCGTTATTAATAGCTGTCAATCGCGACCTATCTAGTTT', SingleLetterAlphabet()), Seq('CACGGCGCCAACCCACGCAGAT', SingleLetterAlphabet()), Seq('AGGGATTGAAAGTTAAGAGCCAGCGGCATAG', SingleLetterAlphabet()), Seq('TTAATATTTCATGTGTACAGCTTGGTGCTTTATCGGCTG', SingleLetterAlphabet()), Seq('AACGTTGTAACTCGCGCAGCTTCTAAGAAGTG', SingleLetterAlphabet())]\n"
     ]
    }
   ],
   "source": [
    "data_file_path = r'C:\\Users\\mikea\\Documents\\Python Practice\\bioinformatics\\rosalind_project\\DNA\\rosalind_splc_1.txt'\n",
    "\n",
    "headerList = []\n",
    "seqList = []\n",
    "\n",
    "for record in SeqIO.parse(data_file_path, 'fasta'):\n",
    "    headerList.append(record.id)\n",
    "    seqList.append(record.seq)\n",
    "\n",
    "print(headerList)\n",
    "print(seqList)"
   ]
  },
  {
   "cell_type": "code",
   "execution_count": 35,
   "metadata": {},
   "outputs": [
    {
     "name": "stdout",
     "output_type": "stream",
     "text": [
      "931\n",
      "513\n"
     ]
    }
   ],
   "source": [
    "dna_sequence = seqList[0]\n",
    "introns = seqList[1:]\n",
    "\n",
    "dna_sequence = str(dna_sequence)\n",
    "introns = [str(i) for i in introns]\n",
    "\n",
    "print(len(dna_sequence))\n",
    "\n",
    "for i in range(len(introns)):\n",
    "    dna_sequence = dna_sequence.replace(introns[i], '')\n",
    "\n",
    "print(len(dna_sequence))\n"
   ]
  },
  {
   "cell_type": "code",
   "execution_count": 36,
   "metadata": {},
   "outputs": [
    {
     "name": "stdout",
     "output_type": "stream",
     "text": [
      "MCDAENSWVSSHGSARYEFPLAACEPVYSGHPYPHGPSGTPESLGIDRGTYPRHYMFSGSIQCGRFSRVLHSGDATPLREAAIVATLEKWRLVRFGGQKTSCSSCASCNYVNRERRNPLGRRVRIYMPHSTEPALYTTGPSWPPPELMSREWLSSERPDFGVNTIVLRKL\n"
     ]
    }
   ],
   "source": [
    "rna_sequence = \"\"\n",
    "\n",
    "for i in range(len(dna_sequence)):\n",
    "    rna_sequence = dna_sequence.replace('T', 'U')\n",
    "\n",
    "prot_string = \"\"\n",
    "\n",
    "for i in range(0, len(rna_sequence)-(3+len(rna_sequence)%3), 3):\n",
    "    seq = rna_sequence[i:i+3]\n",
    "    cod = codon_table.loc[[seq], 'AA_Code']\n",
    "    cod = cod.iloc[0]\n",
    "    if cod == \"STOP\" :\n",
    "        break\n",
    "    prot_string += cod\n",
    "\n",
    "print (prot_string)"
   ]
  },
  {
   "cell_type": "code",
   "execution_count": null,
   "metadata": {},
   "outputs": [],
   "source": []
  }
 ],
 "metadata": {
  "kernelspec": {
   "display_name": "Python 3",
   "language": "python",
   "name": "python3"
  },
  "language_info": {
   "codemirror_mode": {
    "name": "ipython",
    "version": 3
   },
   "file_extension": ".py",
   "mimetype": "text/x-python",
   "name": "python",
   "nbconvert_exporter": "python",
   "pygments_lexer": "ipython3",
   "version": "3.7.6"
  }
 },
 "nbformat": 4,
 "nbformat_minor": 4
}
